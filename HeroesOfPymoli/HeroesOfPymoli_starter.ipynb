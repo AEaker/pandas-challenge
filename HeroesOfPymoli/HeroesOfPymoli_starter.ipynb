{
 "cells": [
  {
   "cell_type": "markdown",
   "metadata": {},
   "source": [
    "### Note\n",
    "* Instructions have been included for each segment. You do not have to follow them exactly, but they are included to help you think through the steps."
   ]
  },
  {
   "cell_type": "code",
   "execution_count": 2,
   "metadata": {
    "tags": []
   },
   "outputs": [
    {
     "output_type": "execute_result",
     "data": {
      "text/plain": "   Purchase ID             SN  Age Gender  Item ID  \\\n0            0        Lisim78   20   Male      108   \n1            1    Lisovynya38   40   Male      143   \n2            2     Ithergue48   24   Male       92   \n3            3  Chamassasya86   24   Male      100   \n4            4      Iskosia90   23   Male      131   \n\n                                   Item Name  Price  \n0  Extraction, Quickblade Of Trembling Hands   3.53  \n1                          Frenzied Scimitar   1.56  \n2                               Final Critic   4.88  \n3                                Blindscythe   3.27  \n4                                       Fury   1.44  ",
      "text/html": "<div>\n<style scoped>\n    .dataframe tbody tr th:only-of-type {\n        vertical-align: middle;\n    }\n\n    .dataframe tbody tr th {\n        vertical-align: top;\n    }\n\n    .dataframe thead th {\n        text-align: right;\n    }\n</style>\n<table border=\"1\" class=\"dataframe\">\n  <thead>\n    <tr style=\"text-align: right;\">\n      <th></th>\n      <th>Purchase ID</th>\n      <th>SN</th>\n      <th>Age</th>\n      <th>Gender</th>\n      <th>Item ID</th>\n      <th>Item Name</th>\n      <th>Price</th>\n    </tr>\n  </thead>\n  <tbody>\n    <tr>\n      <th>0</th>\n      <td>0</td>\n      <td>Lisim78</td>\n      <td>20</td>\n      <td>Male</td>\n      <td>108</td>\n      <td>Extraction, Quickblade Of Trembling Hands</td>\n      <td>3.53</td>\n    </tr>\n    <tr>\n      <th>1</th>\n      <td>1</td>\n      <td>Lisovynya38</td>\n      <td>40</td>\n      <td>Male</td>\n      <td>143</td>\n      <td>Frenzied Scimitar</td>\n      <td>1.56</td>\n    </tr>\n    <tr>\n      <th>2</th>\n      <td>2</td>\n      <td>Ithergue48</td>\n      <td>24</td>\n      <td>Male</td>\n      <td>92</td>\n      <td>Final Critic</td>\n      <td>4.88</td>\n    </tr>\n    <tr>\n      <th>3</th>\n      <td>3</td>\n      <td>Chamassasya86</td>\n      <td>24</td>\n      <td>Male</td>\n      <td>100</td>\n      <td>Blindscythe</td>\n      <td>3.27</td>\n    </tr>\n    <tr>\n      <th>4</th>\n      <td>4</td>\n      <td>Iskosia90</td>\n      <td>23</td>\n      <td>Male</td>\n      <td>131</td>\n      <td>Fury</td>\n      <td>1.44</td>\n    </tr>\n  </tbody>\n</table>\n</div>"
     },
     "metadata": {},
     "execution_count": 2
    }
   ],
   "source": [
    "# Dependencies and Setup\n",
    "import pandas as pd\n",
    "\n",
    "# File to Load (Remember to Change These)\n",
    "file_to_load = \"Resources/purchase_data.csv\"\n",
    "\n",
    "# Read Purchasing File and store into Pandas data frame\n",
    "purchase_data = pd.read_csv(file_to_load)\n",
    "purchase_data.head()"
   ]
  },
  {
   "cell_type": "markdown",
   "metadata": {},
   "source": [
    "* Display the total number of players\n"
   ]
  },
  {
   "cell_type": "code",
   "execution_count": 3,
   "metadata": {},
   "outputs": [
    {
     "output_type": "execute_result",
     "data": {
      "text/plain": "   Total Players\n0            576",
      "text/html": "<div>\n<style scoped>\n    .dataframe tbody tr th:only-of-type {\n        vertical-align: middle;\n    }\n\n    .dataframe tbody tr th {\n        vertical-align: top;\n    }\n\n    .dataframe thead th {\n        text-align: right;\n    }\n</style>\n<table border=\"1\" class=\"dataframe\">\n  <thead>\n    <tr style=\"text-align: right;\">\n      <th></th>\n      <th>Total Players</th>\n    </tr>\n  </thead>\n  <tbody>\n    <tr>\n      <th>0</th>\n      <td>576</td>\n    </tr>\n  </tbody>\n</table>\n</div>"
     },
     "metadata": {},
     "execution_count": 3
    }
   ],
   "source": [
    "#Unique count to filter duplicate players and display in Dataframe\n",
    "TotalPlayer = purchase_data[\"SN\"].nunique()\n",
    "TotalPlayers = pd.DataFrame({\"Total Players\": TotalPlayer}, index=[0])\n",
    "TotalPlayers"
   ]
  },
  {
   "cell_type": "markdown",
   "metadata": {},
   "source": [
    "## Purchasing Analysis (Total)"
   ]
  },
  {
   "cell_type": "markdown",
   "metadata": {},
   "source": [
    "* Run basic calculations to obtain number of unique items, average price, etc.\n",
    "\n",
    "\n",
    "* Create a summary data frame to hold the results\n",
    "\n",
    "\n",
    "* Optional: give the displayed data cleaner formatting\n",
    "\n",
    "\n",
    "* Display the summary data frame\n"
   ]
  },
  {
   "cell_type": "code",
   "execution_count": 4,
   "metadata": {
    "scrolled": true
   },
   "outputs": [
    {
     "output_type": "execute_result",
     "data": {
      "text/plain": "<pandas.io.formats.style.Styler at 0x20471d92948>",
      "text/html": "<style  type=\"text/css\" >\n</style><table id=\"T_5a77e954_c58c_11ea_8f10_00d861e04908\" ><thead>    <tr>        <th class=\"blank level0\" ></th>        <th class=\"col_heading level0 col0\" >Number of Unique Items</th>        <th class=\"col_heading level0 col1\" >Average Price</th>        <th class=\"col_heading level0 col2\" >Number of Purchases</th>        <th class=\"col_heading level0 col3\" >Total Revenue</th>    </tr></thead><tbody>\n                <tr>\n                        <th id=\"T_5a77e954_c58c_11ea_8f10_00d861e04908level0_row0\" class=\"row_heading level0 row0\" >0</th>\n                        <td id=\"T_5a77e954_c58c_11ea_8f10_00d861e04908row0_col0\" class=\"data row0 col0\" >179</td>\n                        <td id=\"T_5a77e954_c58c_11ea_8f10_00d861e04908row0_col1\" class=\"data row0 col1\" >$3.05</td>\n                        <td id=\"T_5a77e954_c58c_11ea_8f10_00d861e04908row0_col2\" class=\"data row0 col2\" >780</td>\n                        <td id=\"T_5a77e954_c58c_11ea_8f10_00d861e04908row0_col3\" class=\"data row0 col3\" >$2,379.77</td>\n            </tr>\n    </tbody></table>"
     },
     "metadata": {},
     "execution_count": 4
    }
   ],
   "source": [
    "#Create DataFrame with 4 columns, using a dictionary with keys and values based on agg functions. \n",
    "SummaryDF = pd.DataFrame({\"Number of Unique Items\": [purchase_data[\"Item ID\"].nunique()], \n",
    "                                \"Average Price\": [purchase_data[\"Price\"].mean()],\n",
    "                                \"Number of Purchases\": [purchase_data[\"Purchase ID\"].count()],\n",
    "                                \"Total Revenue\": [purchase_data[\"Price\"].sum()]})\n",
    "\n",
    "SummaryDF = SummaryDF.style.format({\"Average Price\": \"${:,.2f}\", \"Total Revenue\": \"${:,.2f}\"})\n",
    "SummaryDF"
   ]
  },
  {
   "cell_type": "markdown",
   "metadata": {},
   "source": [
    "## Gender Demographics"
   ]
  },
  {
   "cell_type": "code",
   "execution_count": 5,
   "metadata": {
    "tags": []
   },
   "outputs": [
    {
     "output_type": "execute_result",
     "data": {
      "text/plain": "<pandas.io.formats.style.Styler at 0x204724c6548>",
      "text/html": "<style  type=\"text/css\" >\n</style><table id=\"T_5bc99750_c58c_11ea_bd57_00d861e04908\" ><thead>    <tr>        <th class=\"blank level0\" ></th>        <th class=\"col_heading level0 col0\" >Total Count</th>        <th class=\"col_heading level0 col1\" >% of Players</th>    </tr>    <tr>        <th class=\"index_name level0\" >Index</th>        <th class=\"blank\" ></th>        <th class=\"blank\" ></th>    </tr></thead><tbody>\n                <tr>\n                        <th id=\"T_5bc99750_c58c_11ea_bd57_00d861e04908level0_row0\" class=\"row_heading level0 row0\" >Male</th>\n                        <td id=\"T_5bc99750_c58c_11ea_bd57_00d861e04908row0_col0\" class=\"data row0 col0\" >484</td>\n                        <td id=\"T_5bc99750_c58c_11ea_bd57_00d861e04908row0_col1\" class=\"data row0 col1\" >84.03%</td>\n            </tr>\n            <tr>\n                        <th id=\"T_5bc99750_c58c_11ea_bd57_00d861e04908level0_row1\" class=\"row_heading level0 row1\" >Female</th>\n                        <td id=\"T_5bc99750_c58c_11ea_bd57_00d861e04908row1_col0\" class=\"data row1 col0\" >81</td>\n                        <td id=\"T_5bc99750_c58c_11ea_bd57_00d861e04908row1_col1\" class=\"data row1 col1\" >14.06%</td>\n            </tr>\n            <tr>\n                        <th id=\"T_5bc99750_c58c_11ea_bd57_00d861e04908level0_row2\" class=\"row_heading level0 row2\" >Other / Non-Disclosed</th>\n                        <td id=\"T_5bc99750_c58c_11ea_bd57_00d861e04908row2_col0\" class=\"data row2 col0\" >11</td>\n                        <td id=\"T_5bc99750_c58c_11ea_bd57_00d861e04908row2_col1\" class=\"data row2 col1\" >1.91%</td>\n            </tr>\n    </tbody></table>"
     },
     "metadata": {},
     "execution_count": 5
    }
   ],
   "source": [
    "#Create Dataframe with Gender as index, find total amount of players for each gender, removing duplicates. \n",
    "GenderDemo = purchase_data.drop_duplicates(subset=\"SN\", keep = \"first\")\n",
    "GenderDemo = GenderDemo.groupby(\"Gender\").count()\n",
    "GenderDemo = GenderDemo.iloc[:, 0:2]\n",
    "GenderDemo.rename(columns={\"Purchase ID\": \"Total Count\", \"SN\":\"% of Players\"}, inplace=True)\n",
    "GenderDemo[\"% of Players\"] = GenderDemo[\"Total Count\"]/TotalPlayer\n",
    "#Formatting\n",
    "GenderDemo = GenderDemo.rename_axis(\"Index\").sort_values(by = [\"Total Count\", \"Index\"], ascending=[False, True])\n",
    "GenderDemo = GenderDemo.style.format({\"% of Players\": \"{:.2%}\"})\n",
    "GenderDemo"
   ]
  },
  {
   "cell_type": "markdown",
   "metadata": {},
   "source": [
    "* Percentage and Count of Male Players\n",
    "\n",
    "\n",
    "* Percentage and Count of Female Players\n",
    "\n",
    "\n",
    "* Percentage and Count of Other / Non-Disclosed\n",
    "\n",
    "\n"
   ]
  },
  {
   "cell_type": "markdown",
   "metadata": {},
   "source": [
    "\n",
    "## Purchasing Analysis (Gender)"
   ]
  },
  {
   "cell_type": "markdown",
   "metadata": {},
   "source": [
    "* Run basic calculations to obtain purchase count, avg. purchase price, avg. purchase total per person etc. by gender\n",
    "\n",
    "\n",
    "\n",
    "\n",
    "* Create a summary data frame to hold the results\n",
    "\n",
    "\n",
    "* Optional: give the displayed data cleaner formatting\n",
    "\n",
    "\n",
    "* Display the summary data frame"
   ]
  },
  {
   "cell_type": "code",
   "execution_count": 6,
   "metadata": {},
   "outputs": [
    {
     "output_type": "execute_result",
     "data": {
      "text/plain": "<pandas.io.formats.style.Styler at 0x20472561648>",
      "text/html": "<style  type=\"text/css\" >\n</style><table id=\"T_5ed3808c_c58c_11ea_8358_00d861e04908\" ><thead>    <tr>        <th class=\"blank level0\" ></th>        <th class=\"col_heading level0 col0\" >Purchase Count</th>        <th class=\"col_heading level0 col1\" >Average Purchase Price</th>        <th class=\"col_heading level0 col2\" >Total Purchase Value</th>        <th class=\"col_heading level0 col3\" >Avg Total Purchase Per Person</th>    </tr>    <tr>        <th class=\"index_name level0\" >Gender</th>        <th class=\"blank\" ></th>        <th class=\"blank\" ></th>        <th class=\"blank\" ></th>        <th class=\"blank\" ></th>    </tr></thead><tbody>\n                <tr>\n                        <th id=\"T_5ed3808c_c58c_11ea_8358_00d861e04908level0_row0\" class=\"row_heading level0 row0\" >Female</th>\n                        <td id=\"T_5ed3808c_c58c_11ea_8358_00d861e04908row0_col0\" class=\"data row0 col0\" >113</td>\n                        <td id=\"T_5ed3808c_c58c_11ea_8358_00d861e04908row0_col1\" class=\"data row0 col1\" >$3.20</td>\n                        <td id=\"T_5ed3808c_c58c_11ea_8358_00d861e04908row0_col2\" class=\"data row0 col2\" >$361.94</td>\n                        <td id=\"T_5ed3808c_c58c_11ea_8358_00d861e04908row0_col3\" class=\"data row0 col3\" >$4.47</td>\n            </tr>\n            <tr>\n                        <th id=\"T_5ed3808c_c58c_11ea_8358_00d861e04908level0_row1\" class=\"row_heading level0 row1\" >Male</th>\n                        <td id=\"T_5ed3808c_c58c_11ea_8358_00d861e04908row1_col0\" class=\"data row1 col0\" >652</td>\n                        <td id=\"T_5ed3808c_c58c_11ea_8358_00d861e04908row1_col1\" class=\"data row1 col1\" >$3.02</td>\n                        <td id=\"T_5ed3808c_c58c_11ea_8358_00d861e04908row1_col2\" class=\"data row1 col2\" >$1,967.64</td>\n                        <td id=\"T_5ed3808c_c58c_11ea_8358_00d861e04908row1_col3\" class=\"data row1 col3\" >$4.07</td>\n            </tr>\n            <tr>\n                        <th id=\"T_5ed3808c_c58c_11ea_8358_00d861e04908level0_row2\" class=\"row_heading level0 row2\" >Other / Non-Disclosed</th>\n                        <td id=\"T_5ed3808c_c58c_11ea_8358_00d861e04908row2_col0\" class=\"data row2 col0\" >15</td>\n                        <td id=\"T_5ed3808c_c58c_11ea_8358_00d861e04908row2_col1\" class=\"data row2 col1\" >$3.35</td>\n                        <td id=\"T_5ed3808c_c58c_11ea_8358_00d861e04908row2_col2\" class=\"data row2 col2\" >$50.19</td>\n                        <td id=\"T_5ed3808c_c58c_11ea_8358_00d861e04908row2_col3\" class=\"data row2 col3\" >$4.56</td>\n            </tr>\n    </tbody></table>"
     },
     "metadata": {},
     "execution_count": 6
    }
   ],
   "source": [
    "#Get Purchase Count, Average Purchase Price, Total Purchase Price\n",
    "GenderPurchase = purchase_data.groupby(\"Gender\").agg({\"SN\": [\"count\"], \"Price\": [\"mean\", \"sum\"]})\n",
    "#Rename columns\n",
    "GenderPurchase.columns = [\"Purchase Count\", \"Average Purchase Price\", \"Total Purchase Value\"]\n",
    "#Drop dups for Total Purch PER PERSON\n",
    "NoDups = purchase_data.drop_duplicates(subset=\"SN\", keep = \"first\")\n",
    "NoDups = NoDups[\"Gender\"].value_counts()\n",
    "#Get Total by gender\n",
    "TotalPur = purchase_data.groupby(\"Gender\")[\"Price\"].sum()\n",
    "#equation\n",
    "ATP = TotalPur/NoDups\n",
    "#add to DF\n",
    "GenderPurchase[\"Avg Total Purchase Per Person\"] = ATP\n",
    "#Format\n",
    "GenderPurchase = GenderPurchase.style.format({\"Average Purchase Price\": \"${:.2f}\", \"Total Purchase Value\": \"${:,.2f}\", \"Avg Total Purchase Per Person\":\"${:,.2f}\"})\n",
    "GenderPurchase"
   ]
  },
  {
   "cell_type": "markdown",
   "metadata": {},
   "source": [
    "## Age Demographics"
   ]
  },
  {
   "cell_type": "markdown",
   "metadata": {},
   "source": [
    "* Establish bins for ages\n",
    "\n",
    "\n",
    "* Categorize the existing players using the age bins. Hint: use pd.cut()\n",
    "\n",
    "\n",
    "* Calculate the numbers and percentages by age group\n",
    "\n",
    "\n",
    "* Create a summary data frame to hold the results\n",
    "\n",
    "\n",
    "* Optional: round the percentage column to two decimal points\n",
    "\n",
    "\n",
    "* Display Age Demographics Table\n"
   ]
  },
  {
   "cell_type": "code",
   "execution_count": 7,
   "metadata": {},
   "outputs": [
    {
     "output_type": "execute_result",
     "data": {
      "text/plain": "<pandas.io.formats.style.Styler at 0x20472bd9e88>",
      "text/html": "<style  type=\"text/css\" >\n</style><table id=\"T_67788c68_c58c_11ea_ba72_00d861e04908\" ><thead>    <tr>        <th class=\"blank level0\" ></th>        <th class=\"col_heading level0 col0\" >Total Count</th>        <th class=\"col_heading level0 col1\" >% of Players</th>    </tr>    <tr>        <th class=\"index_name level0\" >Age Demo</th>        <th class=\"blank\" ></th>        <th class=\"blank\" ></th>    </tr></thead><tbody>\n                <tr>\n                        <th id=\"T_67788c68_c58c_11ea_ba72_00d861e04908level0_row0\" class=\"row_heading level0 row0\" ><10</th>\n                        <td id=\"T_67788c68_c58c_11ea_ba72_00d861e04908row0_col0\" class=\"data row0 col0\" >17</td>\n                        <td id=\"T_67788c68_c58c_11ea_ba72_00d861e04908row0_col1\" class=\"data row0 col1\" >2.95%</td>\n            </tr>\n            <tr>\n                        <th id=\"T_67788c68_c58c_11ea_ba72_00d861e04908level0_row1\" class=\"row_heading level0 row1\" >10-14</th>\n                        <td id=\"T_67788c68_c58c_11ea_ba72_00d861e04908row1_col0\" class=\"data row1 col0\" >22</td>\n                        <td id=\"T_67788c68_c58c_11ea_ba72_00d861e04908row1_col1\" class=\"data row1 col1\" >3.82%</td>\n            </tr>\n            <tr>\n                        <th id=\"T_67788c68_c58c_11ea_ba72_00d861e04908level0_row2\" class=\"row_heading level0 row2\" >15-19</th>\n                        <td id=\"T_67788c68_c58c_11ea_ba72_00d861e04908row2_col0\" class=\"data row2 col0\" >107</td>\n                        <td id=\"T_67788c68_c58c_11ea_ba72_00d861e04908row2_col1\" class=\"data row2 col1\" >18.58%</td>\n            </tr>\n            <tr>\n                        <th id=\"T_67788c68_c58c_11ea_ba72_00d861e04908level0_row3\" class=\"row_heading level0 row3\" >20-24</th>\n                        <td id=\"T_67788c68_c58c_11ea_ba72_00d861e04908row3_col0\" class=\"data row3 col0\" >258</td>\n                        <td id=\"T_67788c68_c58c_11ea_ba72_00d861e04908row3_col1\" class=\"data row3 col1\" >44.79%</td>\n            </tr>\n            <tr>\n                        <th id=\"T_67788c68_c58c_11ea_ba72_00d861e04908level0_row4\" class=\"row_heading level0 row4\" >25-29</th>\n                        <td id=\"T_67788c68_c58c_11ea_ba72_00d861e04908row4_col0\" class=\"data row4 col0\" >77</td>\n                        <td id=\"T_67788c68_c58c_11ea_ba72_00d861e04908row4_col1\" class=\"data row4 col1\" >13.37%</td>\n            </tr>\n            <tr>\n                        <th id=\"T_67788c68_c58c_11ea_ba72_00d861e04908level0_row5\" class=\"row_heading level0 row5\" >30-34</th>\n                        <td id=\"T_67788c68_c58c_11ea_ba72_00d861e04908row5_col0\" class=\"data row5 col0\" >52</td>\n                        <td id=\"T_67788c68_c58c_11ea_ba72_00d861e04908row5_col1\" class=\"data row5 col1\" >9.03%</td>\n            </tr>\n            <tr>\n                        <th id=\"T_67788c68_c58c_11ea_ba72_00d861e04908level0_row6\" class=\"row_heading level0 row6\" >35-39</th>\n                        <td id=\"T_67788c68_c58c_11ea_ba72_00d861e04908row6_col0\" class=\"data row6 col0\" >31</td>\n                        <td id=\"T_67788c68_c58c_11ea_ba72_00d861e04908row6_col1\" class=\"data row6 col1\" >5.38%</td>\n            </tr>\n            <tr>\n                        <th id=\"T_67788c68_c58c_11ea_ba72_00d861e04908level0_row7\" class=\"row_heading level0 row7\" >40+</th>\n                        <td id=\"T_67788c68_c58c_11ea_ba72_00d861e04908row7_col0\" class=\"data row7 col0\" >12</td>\n                        <td id=\"T_67788c68_c58c_11ea_ba72_00d861e04908row7_col1\" class=\"data row7 col1\" >2.08%</td>\n            </tr>\n    </tbody></table>"
     },
     "metadata": {},
     "execution_count": 7
    }
   ],
   "source": [
    "#Drop dups so peeps show up once\n",
    "AgeDemo = purchase_data.drop_duplicates(subset=\"SN\", keep = \"first\")\n",
    "#my bins, my boxes, my categories\n",
    "bins = [0, 9.9, 14.9, 19.9, 24.9, 29.9, 34.9, 39.9, 1000]\n",
    "#My labels\n",
    "labels=[\"<10\", \"10-14\", \"15-19\", \"20-24\", \"25-29\", \"30-34\", \"35-39\", \"40+\"]\n",
    "#Add to DF\n",
    "AgeDemo[\"Age Demo\"] = pd.cut(AgeDemo[\"Age\"], bins, labels=labels, include_lowest=True)\n",
    "#Get new index\n",
    "AgeDemo = AgeDemo.groupby(\"Age Demo\")\n",
    "#Cull some columns, just need 1 count\n",
    "AgeDemo = AgeDemo.count().iloc[:, 0:2]\n",
    "#Rename\n",
    "#AgeDemo.rename(columns={\"Purchase ID\": \"Total Count\", \"SN\": \"% of Players\"}, inplace=True )\n",
    "AgeDemo.columns=[ \"Total Count\",  \"% of Players\"]\n",
    "#Equation to get %\n",
    "AgeDemo[\"% of Players\"] = (AgeDemo[\"Total Count\"]/TotalPlayer)*100\n",
    "#Formatting\n",
    "AgeDemo = AgeDemo.style.format({\"% of Players\":\"{:,.2f}%\"})\n",
    "AgeDemo"
   ]
  },
  {
   "cell_type": "markdown",
   "metadata": {},
   "source": [
    "## Purchasing Analysis (Age)"
   ]
  },
  {
   "cell_type": "markdown",
   "metadata": {},
   "source": [
    "* Bin the purchase_data data frame by age\n",
    "\n",
    "\n",
    "* Run basic calculations to obtain purchase count, avg. purchase price, avg. purchase total per person etc. in the table below\n",
    "\n",
    "\n",
    "* Create a summary data frame to hold the results\n",
    "\n",
    "\n",
    "* Optional: give the displayed data cleaner formatting\n",
    "\n",
    "\n",
    "* Display the summary data frame"
   ]
  },
  {
   "cell_type": "code",
   "execution_count": 13,
   "metadata": {},
   "outputs": [
    {
     "output_type": "execute_result",
     "data": {
      "text/plain": "<pandas.io.formats.style.Styler at 0x20473b48288>",
      "text/html": "<style  type=\"text/css\" >\n</style><table id=\"T_90d4417a_c58c_11ea_a280_00d861e04908\" ><thead>    <tr>        <th class=\"blank level0\" ></th>        <th class=\"col_heading level0 col0\" >Purchase Count</th>        <th class=\"col_heading level0 col1\" >Average Purchase Price</th>        <th class=\"col_heading level0 col2\" >Total Purchase Value</th>        <th class=\"col_heading level0 col3\" >Avg Total Purchase Per Person</th>    </tr>    <tr>        <th class=\"index_name level0\" >Age Demo</th>        <th class=\"blank\" ></th>        <th class=\"blank\" ></th>        <th class=\"blank\" ></th>        <th class=\"blank\" ></th>    </tr></thead><tbody>\n                <tr>\n                        <th id=\"T_90d4417a_c58c_11ea_a280_00d861e04908level0_row0\" class=\"row_heading level0 row0\" ><10</th>\n                        <td id=\"T_90d4417a_c58c_11ea_a280_00d861e04908row0_col0\" class=\"data row0 col0\" >23</td>\n                        <td id=\"T_90d4417a_c58c_11ea_a280_00d861e04908row0_col1\" class=\"data row0 col1\" >$3.35</td>\n                        <td id=\"T_90d4417a_c58c_11ea_a280_00d861e04908row0_col2\" class=\"data row0 col2\" >$77.13</td>\n                        <td id=\"T_90d4417a_c58c_11ea_a280_00d861e04908row0_col3\" class=\"data row0 col3\" >$4.54</td>\n            </tr>\n            <tr>\n                        <th id=\"T_90d4417a_c58c_11ea_a280_00d861e04908level0_row1\" class=\"row_heading level0 row1\" >10-14</th>\n                        <td id=\"T_90d4417a_c58c_11ea_a280_00d861e04908row1_col0\" class=\"data row1 col0\" >28</td>\n                        <td id=\"T_90d4417a_c58c_11ea_a280_00d861e04908row1_col1\" class=\"data row1 col1\" >$2.96</td>\n                        <td id=\"T_90d4417a_c58c_11ea_a280_00d861e04908row1_col2\" class=\"data row1 col2\" >$82.78</td>\n                        <td id=\"T_90d4417a_c58c_11ea_a280_00d861e04908row1_col3\" class=\"data row1 col3\" >$3.76</td>\n            </tr>\n            <tr>\n                        <th id=\"T_90d4417a_c58c_11ea_a280_00d861e04908level0_row2\" class=\"row_heading level0 row2\" >15-19</th>\n                        <td id=\"T_90d4417a_c58c_11ea_a280_00d861e04908row2_col0\" class=\"data row2 col0\" >136</td>\n                        <td id=\"T_90d4417a_c58c_11ea_a280_00d861e04908row2_col1\" class=\"data row2 col1\" >$3.04</td>\n                        <td id=\"T_90d4417a_c58c_11ea_a280_00d861e04908row2_col2\" class=\"data row2 col2\" >$412.89</td>\n                        <td id=\"T_90d4417a_c58c_11ea_a280_00d861e04908row2_col3\" class=\"data row2 col3\" >$3.86</td>\n            </tr>\n            <tr>\n                        <th id=\"T_90d4417a_c58c_11ea_a280_00d861e04908level0_row3\" class=\"row_heading level0 row3\" >20-24</th>\n                        <td id=\"T_90d4417a_c58c_11ea_a280_00d861e04908row3_col0\" class=\"data row3 col0\" >365</td>\n                        <td id=\"T_90d4417a_c58c_11ea_a280_00d861e04908row3_col1\" class=\"data row3 col1\" >$3.05</td>\n                        <td id=\"T_90d4417a_c58c_11ea_a280_00d861e04908row3_col2\" class=\"data row3 col2\" >$1,114.06</td>\n                        <td id=\"T_90d4417a_c58c_11ea_a280_00d861e04908row3_col3\" class=\"data row3 col3\" >$4.32</td>\n            </tr>\n            <tr>\n                        <th id=\"T_90d4417a_c58c_11ea_a280_00d861e04908level0_row4\" class=\"row_heading level0 row4\" >25-29</th>\n                        <td id=\"T_90d4417a_c58c_11ea_a280_00d861e04908row4_col0\" class=\"data row4 col0\" >101</td>\n                        <td id=\"T_90d4417a_c58c_11ea_a280_00d861e04908row4_col1\" class=\"data row4 col1\" >$2.90</td>\n                        <td id=\"T_90d4417a_c58c_11ea_a280_00d861e04908row4_col2\" class=\"data row4 col2\" >$293.00</td>\n                        <td id=\"T_90d4417a_c58c_11ea_a280_00d861e04908row4_col3\" class=\"data row4 col3\" >$3.81</td>\n            </tr>\n            <tr>\n                        <th id=\"T_90d4417a_c58c_11ea_a280_00d861e04908level0_row5\" class=\"row_heading level0 row5\" >30-34</th>\n                        <td id=\"T_90d4417a_c58c_11ea_a280_00d861e04908row5_col0\" class=\"data row5 col0\" >73</td>\n                        <td id=\"T_90d4417a_c58c_11ea_a280_00d861e04908row5_col1\" class=\"data row5 col1\" >$2.93</td>\n                        <td id=\"T_90d4417a_c58c_11ea_a280_00d861e04908row5_col2\" class=\"data row5 col2\" >$214.00</td>\n                        <td id=\"T_90d4417a_c58c_11ea_a280_00d861e04908row5_col3\" class=\"data row5 col3\" >$4.12</td>\n            </tr>\n            <tr>\n                        <th id=\"T_90d4417a_c58c_11ea_a280_00d861e04908level0_row6\" class=\"row_heading level0 row6\" >35-39</th>\n                        <td id=\"T_90d4417a_c58c_11ea_a280_00d861e04908row6_col0\" class=\"data row6 col0\" >41</td>\n                        <td id=\"T_90d4417a_c58c_11ea_a280_00d861e04908row6_col1\" class=\"data row6 col1\" >$3.60</td>\n                        <td id=\"T_90d4417a_c58c_11ea_a280_00d861e04908row6_col2\" class=\"data row6 col2\" >$147.67</td>\n                        <td id=\"T_90d4417a_c58c_11ea_a280_00d861e04908row6_col3\" class=\"data row6 col3\" >$4.76</td>\n            </tr>\n            <tr>\n                        <th id=\"T_90d4417a_c58c_11ea_a280_00d861e04908level0_row7\" class=\"row_heading level0 row7\" >40+</th>\n                        <td id=\"T_90d4417a_c58c_11ea_a280_00d861e04908row7_col0\" class=\"data row7 col0\" >13</td>\n                        <td id=\"T_90d4417a_c58c_11ea_a280_00d861e04908row7_col1\" class=\"data row7 col1\" >$2.94</td>\n                        <td id=\"T_90d4417a_c58c_11ea_a280_00d861e04908row7_col2\" class=\"data row7 col2\" >$38.24</td>\n                        <td id=\"T_90d4417a_c58c_11ea_a280_00d861e04908row7_col3\" class=\"data row7 col3\" >$3.19</td>\n            </tr>\n    </tbody></table>"
     },
     "metadata": {},
     "execution_count": 13
    }
   ],
   "source": [
    "#my bins, my boxes, my categories\n",
    "bins = [0, 9.9, 14.9, 19.9, 24.9, 29.9, 34.9, 39.9, 1000]\n",
    "#My labels\n",
    "labels=[\"<10\", \"10-14\", \"15-19\", \"20-24\", \"25-29\", \"30-34\", \"35-39\", \"40+\"]\n",
    "#Add to DF\n",
    "PurAge = purchase_data\n",
    "PurAge[\"Age Demo\"] = pd.cut(PurAge[\"Age\"], bins, labels=labels, include_lowest=True)\n",
    "####################################\n",
    "####Need this variable for later##\n",
    "TotalAgePurchase = PurAge.groupby(\"Age Demo\")[\"Price\"].sum()\n",
    "######################################\n",
    "\n",
    "#Manipulate data and change DF index\n",
    "PurAge = PurAge.groupby(\"Age Demo\").agg({\"SN\":[\"count\"], \"Price\":[\"mean\", \"sum\"]})\n",
    "#Rename DF columns\n",
    "PurAge.columns = [\"Purchase Count\", \"Average Purchase Price\", \"Total Purchase Value\"]\n",
    "\n",
    "#Avg Total Purchase Per Person\n",
    "#Drop dups so peeps show up once\n",
    "PerPerson = purchase_data.drop_duplicates(subset=\"SN\", keep = \"first\")\n",
    "PerPerson[\"Age Demo\"] = pd.cut(PerPerson[\"Age\"], bins, labels=labels, include_lowest=True)\n",
    "OneAge = PerPerson[\"Age Demo\"].value_counts()\n",
    "ATP2 = TotalAgePurchase/OneAge\n",
    "PurAge[\"Avg Total Purchase Per Person\"] = ATP2\n",
    "#Formatting\n",
    "PurAge = PurAge.style.format({\"Average Purchase Price\": \"${:.2f}\", \"Total Purchase Value\": \"${:,.2f}\", \"Avg Total Purchase Per Person\":\"${:,.2f}\"})\n",
    "PurAge"
   ]
  },
  {
   "cell_type": "markdown",
   "metadata": {},
   "source": [
    "## Top Spenders"
   ]
  },
  {
   "cell_type": "markdown",
   "metadata": {},
   "source": [
    "* Run basic calculations to obtain the results in the table below\n",
    "\n",
    "\n",
    "* Create a summary data frame to hold the results\n",
    "\n",
    "\n",
    "* Sort the total purchase value column in descending order\n",
    "\n",
    "\n",
    "* Optional: give the displayed data cleaner formatting\n",
    "\n",
    "\n",
    "* Display a preview of the summary data frame\n",
    "\n"
   ]
  },
  {
   "cell_type": "code",
   "execution_count": 12,
   "metadata": {},
   "outputs": [
    {
     "output_type": "execute_result",
     "data": {
      "text/plain": "<pandas.io.formats.style.Styler at 0x20472b38148>",
      "text/html": "<style  type=\"text/css\" >\n</style><table id=\"T_8f1406f6_c58c_11ea_861c_00d861e04908\" ><thead>    <tr>        <th class=\"blank level0\" ></th>        <th class=\"col_heading level0 col0\" >Purchase Count</th>        <th class=\"col_heading level0 col1\" >Average Purchase Price</th>        <th class=\"col_heading level0 col2\" >Total Purchase Value</th>    </tr>    <tr>        <th class=\"index_name level0\" >SN</th>        <th class=\"blank\" ></th>        <th class=\"blank\" ></th>        <th class=\"blank\" ></th>    </tr></thead><tbody>\n                <tr>\n                        <th id=\"T_8f1406f6_c58c_11ea_861c_00d861e04908level0_row0\" class=\"row_heading level0 row0\" >Lisosia93</th>\n                        <td id=\"T_8f1406f6_c58c_11ea_861c_00d861e04908row0_col0\" class=\"data row0 col0\" >5</td>\n                        <td id=\"T_8f1406f6_c58c_11ea_861c_00d861e04908row0_col1\" class=\"data row0 col1\" >$3.79</td>\n                        <td id=\"T_8f1406f6_c58c_11ea_861c_00d861e04908row0_col2\" class=\"data row0 col2\" >$18.96</td>\n            </tr>\n            <tr>\n                        <th id=\"T_8f1406f6_c58c_11ea_861c_00d861e04908level0_row1\" class=\"row_heading level0 row1\" >Idastidru52</th>\n                        <td id=\"T_8f1406f6_c58c_11ea_861c_00d861e04908row1_col0\" class=\"data row1 col0\" >4</td>\n                        <td id=\"T_8f1406f6_c58c_11ea_861c_00d861e04908row1_col1\" class=\"data row1 col1\" >$3.86</td>\n                        <td id=\"T_8f1406f6_c58c_11ea_861c_00d861e04908row1_col2\" class=\"data row1 col2\" >$15.45</td>\n            </tr>\n            <tr>\n                        <th id=\"T_8f1406f6_c58c_11ea_861c_00d861e04908level0_row2\" class=\"row_heading level0 row2\" >Chamjask73</th>\n                        <td id=\"T_8f1406f6_c58c_11ea_861c_00d861e04908row2_col0\" class=\"data row2 col0\" >3</td>\n                        <td id=\"T_8f1406f6_c58c_11ea_861c_00d861e04908row2_col1\" class=\"data row2 col1\" >$4.61</td>\n                        <td id=\"T_8f1406f6_c58c_11ea_861c_00d861e04908row2_col2\" class=\"data row2 col2\" >$13.83</td>\n            </tr>\n            <tr>\n                        <th id=\"T_8f1406f6_c58c_11ea_861c_00d861e04908level0_row3\" class=\"row_heading level0 row3\" >Iral74</th>\n                        <td id=\"T_8f1406f6_c58c_11ea_861c_00d861e04908row3_col0\" class=\"data row3 col0\" >4</td>\n                        <td id=\"T_8f1406f6_c58c_11ea_861c_00d861e04908row3_col1\" class=\"data row3 col1\" >$3.40</td>\n                        <td id=\"T_8f1406f6_c58c_11ea_861c_00d861e04908row3_col2\" class=\"data row3 col2\" >$13.62</td>\n            </tr>\n            <tr>\n                        <th id=\"T_8f1406f6_c58c_11ea_861c_00d861e04908level0_row4\" class=\"row_heading level0 row4\" >Iskadarya95</th>\n                        <td id=\"T_8f1406f6_c58c_11ea_861c_00d861e04908row4_col0\" class=\"data row4 col0\" >3</td>\n                        <td id=\"T_8f1406f6_c58c_11ea_861c_00d861e04908row4_col1\" class=\"data row4 col1\" >$4.37</td>\n                        <td id=\"T_8f1406f6_c58c_11ea_861c_00d861e04908row4_col2\" class=\"data row4 col2\" >$13.10</td>\n            </tr>\n    </tbody></table>"
     },
     "metadata": {},
     "execution_count": 12
    }
   ],
   "source": [
    "TopSpenders = purchase_data.groupby(\"SN\").agg({\"SN\":[\"count\"], \"Price\": [\"mean\", \"sum\"]})\n",
    "TopSpenders.columns = [\"Purchase Count\", \"Average Purchase Price\", \"Total Purchase Value\"]\n",
    "TopSpenders.sort_values(by=[\"Total Purchase Value\"], ascending=False, inplace=True)\n",
    "TopSpenders = TopSpenders.iloc[0:5,:]\n",
    "TopSpenders = TopSpenders.style.format({\"Average Purchase Price\": \"${:,.2f}\", \"Total Purchase Value\": \"${:,.2f}\"})\n",
    "TopSpenders\n"
   ]
  },
  {
   "cell_type": "markdown",
   "metadata": {},
   "source": [
    "## Most Popular Items"
   ]
  },
  {
   "cell_type": "markdown",
   "metadata": {},
   "source": [
    "* Retrieve the Item ID, Item Name, and Item Price columns\n",
    "\n",
    "\n",
    "* Group by Item ID and Item Name. Perform calculations to obtain purchase count, item price, and total purchase value\n",
    "\n",
    "\n",
    "* Create a summary data frame to hold the results\n",
    "\n",
    "\n",
    "* Sort the purchase count column in descending order\n",
    "\n",
    "\n",
    "* Optional: give the displayed data cleaner formatting\n",
    "\n",
    "\n",
    "* Display a preview of the summary data frame\n",
    "\n"
   ]
  },
  {
   "cell_type": "code",
   "execution_count": 11,
   "metadata": {},
   "outputs": [
    {
     "output_type": "execute_result",
     "data": {
      "text/plain": "<pandas.io.formats.style.Styler at 0x204739f4988>",
      "text/html": "<style  type=\"text/css\" >\n</style><table id=\"T_8d28806c_c58c_11ea_9e71_00d861e04908\" ><thead>    <tr>        <th class=\"blank\" ></th>        <th class=\"blank level0\" ></th>        <th class=\"col_heading level0 col0\" >Purchase Count</th>        <th class=\"col_heading level0 col1\" >Item Price</th>        <th class=\"col_heading level0 col2\" >Total Purchase Value</th>    </tr>    <tr>        <th class=\"index_name level0\" >Item ID</th>        <th class=\"index_name level1\" >Item Name</th>        <th class=\"blank\" ></th>        <th class=\"blank\" ></th>        <th class=\"blank\" ></th>    </tr></thead><tbody>\n                <tr>\n                        <th id=\"T_8d28806c_c58c_11ea_9e71_00d861e04908level0_row0\" class=\"row_heading level0 row0\" >92</th>\n                        <th id=\"T_8d28806c_c58c_11ea_9e71_00d861e04908level1_row0\" class=\"row_heading level1 row0\" >Final Critic</th>\n                        <td id=\"T_8d28806c_c58c_11ea_9e71_00d861e04908row0_col0\" class=\"data row0 col0\" >13</td>\n                        <td id=\"T_8d28806c_c58c_11ea_9e71_00d861e04908row0_col1\" class=\"data row0 col1\" >$4.88</td>\n                        <td id=\"T_8d28806c_c58c_11ea_9e71_00d861e04908row0_col2\" class=\"data row0 col2\" >$59.99</td>\n            </tr>\n            <tr>\n                        <th id=\"T_8d28806c_c58c_11ea_9e71_00d861e04908level0_row1\" class=\"row_heading level0 row1\" >178</th>\n                        <th id=\"T_8d28806c_c58c_11ea_9e71_00d861e04908level1_row1\" class=\"row_heading level1 row1\" >Oathbreaker, Last Hope of the Breaking Storm</th>\n                        <td id=\"T_8d28806c_c58c_11ea_9e71_00d861e04908row1_col0\" class=\"data row1 col0\" >12</td>\n                        <td id=\"T_8d28806c_c58c_11ea_9e71_00d861e04908row1_col1\" class=\"data row1 col1\" >$4.23</td>\n                        <td id=\"T_8d28806c_c58c_11ea_9e71_00d861e04908row1_col2\" class=\"data row1 col2\" >$50.76</td>\n            </tr>\n            <tr>\n                        <th id=\"T_8d28806c_c58c_11ea_9e71_00d861e04908level0_row2\" class=\"row_heading level0 row2\" >145</th>\n                        <th id=\"T_8d28806c_c58c_11ea_9e71_00d861e04908level1_row2\" class=\"row_heading level1 row2\" >Fiery Glass Crusader</th>\n                        <td id=\"T_8d28806c_c58c_11ea_9e71_00d861e04908row2_col0\" class=\"data row2 col0\" >9</td>\n                        <td id=\"T_8d28806c_c58c_11ea_9e71_00d861e04908row2_col1\" class=\"data row2 col1\" >$4.58</td>\n                        <td id=\"T_8d28806c_c58c_11ea_9e71_00d861e04908row2_col2\" class=\"data row2 col2\" >$41.22</td>\n            </tr>\n            <tr>\n                        <th id=\"T_8d28806c_c58c_11ea_9e71_00d861e04908level0_row3\" class=\"row_heading level0 row3\" >132</th>\n                        <th id=\"T_8d28806c_c58c_11ea_9e71_00d861e04908level1_row3\" class=\"row_heading level1 row3\" >Persuasion</th>\n                        <td id=\"T_8d28806c_c58c_11ea_9e71_00d861e04908row3_col0\" class=\"data row3 col0\" >9</td>\n                        <td id=\"T_8d28806c_c58c_11ea_9e71_00d861e04908row3_col1\" class=\"data row3 col1\" >$3.19</td>\n                        <td id=\"T_8d28806c_c58c_11ea_9e71_00d861e04908row3_col2\" class=\"data row3 col2\" >$28.99</td>\n            </tr>\n            <tr>\n                        <th id=\"T_8d28806c_c58c_11ea_9e71_00d861e04908level0_row4\" class=\"row_heading level0 row4\" >108</th>\n                        <th id=\"T_8d28806c_c58c_11ea_9e71_00d861e04908level1_row4\" class=\"row_heading level1 row4\" >Extraction, Quickblade Of Trembling Hands</th>\n                        <td id=\"T_8d28806c_c58c_11ea_9e71_00d861e04908row4_col0\" class=\"data row4 col0\" >9</td>\n                        <td id=\"T_8d28806c_c58c_11ea_9e71_00d861e04908row4_col1\" class=\"data row4 col1\" >$3.53</td>\n                        <td id=\"T_8d28806c_c58c_11ea_9e71_00d861e04908row4_col2\" class=\"data row4 col2\" >$31.77</td>\n            </tr>\n    </tbody></table>"
     },
     "metadata": {},
     "execution_count": 11
    }
   ],
   "source": [
    "PopItem = purchase_data.groupby([\"Item ID\",\"Item Name\"]).agg({\"Price\": [\"count\", \"first\", \"sum\"]})\n",
    "PopItem.columns = [\"Purchase Count\",  \"Item Price\", \"Total Purchase Value\"]\n",
    "PopItem.sort_values(by=[\"Purchase Count\"], inplace=True, ascending=False)\n",
    "PopItem = PopItem.iloc[0:5,:]\n",
    "PopItem = PopItem.style.format({\"Item Price\": \"${:,.2f}\",\"Total Purchase Value\":\"${:,.2f}\"})\n",
    "PopItem"
   ]
  },
  {
   "cell_type": "markdown",
   "metadata": {},
   "source": [
    "## Most Profitable Items"
   ]
  },
  {
   "cell_type": "markdown",
   "metadata": {},
   "source": [
    "* Sort the above table by total purchase value in descending order\n",
    "\n",
    "\n",
    "* Optional: give the displayed data cleaner formatting\n",
    "\n",
    "\n",
    "* Display a preview of the data frame\n",
    "\n"
   ]
  },
  {
   "cell_type": "code",
   "execution_count": 8,
   "metadata": {
    "scrolled": true
   },
   "outputs": [
    {
     "output_type": "execute_result",
     "data": {
      "text/plain": "<pandas.io.formats.style.Styler at 0x20472bd9248>",
      "text/html": "<style  type=\"text/css\" >\n</style><table id=\"T_8816648a_c58c_11ea_b107_00d861e04908\" ><thead>    <tr>        <th class=\"blank\" ></th>        <th class=\"blank level0\" ></th>        <th class=\"col_heading level0 col0\" >Purchase Count</th>        <th class=\"col_heading level0 col1\" >Item Price</th>        <th class=\"col_heading level0 col2\" >Total Purchase Value</th>    </tr>    <tr>        <th class=\"index_name level0\" >Item ID</th>        <th class=\"index_name level1\" >Item Name</th>        <th class=\"blank\" ></th>        <th class=\"blank\" ></th>        <th class=\"blank\" ></th>    </tr></thead><tbody>\n                <tr>\n                        <th id=\"T_8816648a_c58c_11ea_b107_00d861e04908level0_row0\" class=\"row_heading level0 row0\" >92</th>\n                        <th id=\"T_8816648a_c58c_11ea_b107_00d861e04908level1_row0\" class=\"row_heading level1 row0\" >Final Critic</th>\n                        <td id=\"T_8816648a_c58c_11ea_b107_00d861e04908row0_col0\" class=\"data row0 col0\" >13</td>\n                        <td id=\"T_8816648a_c58c_11ea_b107_00d861e04908row0_col1\" class=\"data row0 col1\" >$4.88</td>\n                        <td id=\"T_8816648a_c58c_11ea_b107_00d861e04908row0_col2\" class=\"data row0 col2\" >$59.99</td>\n            </tr>\n            <tr>\n                        <th id=\"T_8816648a_c58c_11ea_b107_00d861e04908level0_row1\" class=\"row_heading level0 row1\" >178</th>\n                        <th id=\"T_8816648a_c58c_11ea_b107_00d861e04908level1_row1\" class=\"row_heading level1 row1\" >Oathbreaker, Last Hope of the Breaking Storm</th>\n                        <td id=\"T_8816648a_c58c_11ea_b107_00d861e04908row1_col0\" class=\"data row1 col0\" >12</td>\n                        <td id=\"T_8816648a_c58c_11ea_b107_00d861e04908row1_col1\" class=\"data row1 col1\" >$4.23</td>\n                        <td id=\"T_8816648a_c58c_11ea_b107_00d861e04908row1_col2\" class=\"data row1 col2\" >$50.76</td>\n            </tr>\n            <tr>\n                        <th id=\"T_8816648a_c58c_11ea_b107_00d861e04908level0_row2\" class=\"row_heading level0 row2\" >82</th>\n                        <th id=\"T_8816648a_c58c_11ea_b107_00d861e04908level1_row2\" class=\"row_heading level1 row2\" >Nirvana</th>\n                        <td id=\"T_8816648a_c58c_11ea_b107_00d861e04908row2_col0\" class=\"data row2 col0\" >9</td>\n                        <td id=\"T_8816648a_c58c_11ea_b107_00d861e04908row2_col1\" class=\"data row2 col1\" >$4.90</td>\n                        <td id=\"T_8816648a_c58c_11ea_b107_00d861e04908row2_col2\" class=\"data row2 col2\" >$44.10</td>\n            </tr>\n            <tr>\n                        <th id=\"T_8816648a_c58c_11ea_b107_00d861e04908level0_row3\" class=\"row_heading level0 row3\" >145</th>\n                        <th id=\"T_8816648a_c58c_11ea_b107_00d861e04908level1_row3\" class=\"row_heading level1 row3\" >Fiery Glass Crusader</th>\n                        <td id=\"T_8816648a_c58c_11ea_b107_00d861e04908row3_col0\" class=\"data row3 col0\" >9</td>\n                        <td id=\"T_8816648a_c58c_11ea_b107_00d861e04908row3_col1\" class=\"data row3 col1\" >$4.58</td>\n                        <td id=\"T_8816648a_c58c_11ea_b107_00d861e04908row3_col2\" class=\"data row3 col2\" >$41.22</td>\n            </tr>\n            <tr>\n                        <th id=\"T_8816648a_c58c_11ea_b107_00d861e04908level0_row4\" class=\"row_heading level0 row4\" >103</th>\n                        <th id=\"T_8816648a_c58c_11ea_b107_00d861e04908level1_row4\" class=\"row_heading level1 row4\" >Singed Scalpel</th>\n                        <td id=\"T_8816648a_c58c_11ea_b107_00d861e04908row4_col0\" class=\"data row4 col0\" >8</td>\n                        <td id=\"T_8816648a_c58c_11ea_b107_00d861e04908row4_col1\" class=\"data row4 col1\" >$4.35</td>\n                        <td id=\"T_8816648a_c58c_11ea_b107_00d861e04908row4_col2\" class=\"data row4 col2\" >$34.80</td>\n            </tr>\n    </tbody></table>"
     },
     "metadata": {},
     "execution_count": 8
    }
   ],
   "source": [
    "ProfitItem = purchase_data.groupby([\"Item ID\",\"Item Name\"]).agg({\"Price\": [\"count\", \"first\", \"sum\"]})\n",
    "ProfitItem.columns = [\"Purchase Count\",  \"Item Price\", \"Total Purchase Value\"]\n",
    "ProfitItem.sort_values(by=[\"Total Purchase Value\"], inplace=True, ascending=False)\n",
    "ProfitItem = ProfitItem.iloc[0:5,:]\n",
    "ProfitItem = ProfitItem.style.format({\"Item Price\": \"${:,.2f}\",\"Total Purchase Value\":\"${:,.2f}\"})\n",
    "ProfitItem"
   ]
  },
  {
   "cell_type": "code",
   "execution_count": null,
   "metadata": {},
   "outputs": [],
   "source": []
  }
 ],
 "metadata": {
  "anaconda-cloud": {},
  "kernel_info": {
   "name": "python3"
  },
  "kernelspec": {
   "display_name": "Python 3",
   "language": "python",
   "name": "python3"
  },
  "language_info": {
   "codemirror_mode": {
    "name": "ipython",
    "version": 3
   },
   "file_extension": ".py",
   "mimetype": "text/x-python",
   "name": "python",
   "nbconvert_exporter": "python",
   "pygments_lexer": "ipython3",
   "version": "3.7.6"
  },
  "latex_envs": {
   "LaTeX_envs_menu_present": true,
   "autoclose": false,
   "autocomplete": true,
   "bibliofile": "biblio.bib",
   "cite_by": "apalike",
   "current_citInitial": 1,
   "eqLabelWithNumbers": true,
   "eqNumInitial": 1,
   "hotkeys": {
    "equation": "Ctrl-E",
    "itemize": "Ctrl-I"
   },
   "labels_anchors": false,
   "latex_user_defs": false,
   "report_style_numbering": false,
   "user_envs_cfg": false
  },
  "nteract": {
   "version": "0.2.0"
  }
 },
 "nbformat": 4,
 "nbformat_minor": 2
}